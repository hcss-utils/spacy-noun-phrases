{
 "cells": [
  {
   "cell_type": "code",
   "execution_count": 1,
   "metadata": {},
   "outputs": [],
   "source": [
    "import json\n",
    "from collections import Counter\n",
    "from pathlib import Path\n",
    "from typing import Dict, Iterator, List\n",
    "\n",
    "import pandas as pd # type: ignore"
   ]
  },
  {
   "cell_type": "code",
   "execution_count": 2,
   "metadata": {},
   "outputs": [],
   "source": [
    "ASSETS = Path(\"../assets/\").resolve()\n",
    "Phrases = Dict[str, List[str]]"
   ]
  },
  {
   "cell_type": "code",
   "execution_count": 3,
   "metadata": {},
   "outputs": [],
   "source": [
    "def read_jsonl(p: Path) -> Iterator[Phrases]:\n",
    "    with p.open(\"r\", encoding=\"utf-8\") as lines:\n",
    "        for line in lines:\n",
    "            yield json.loads(line)"
   ]
  },
  {
   "cell_type": "code",
   "execution_count": 4,
   "metadata": {},
   "outputs": [],
   "source": [
    "phrases : List[str] = []\n",
    "total_documents = 0\n",
    "for d in read_jsonl(ASSETS / \"output.jsonl\"):\n",
    "    phrases.extend(*d.values())\n",
    "    total_documents += 1"
   ]
  },
  {
   "cell_type": "code",
   "execution_count": 5,
   "metadata": {},
   "outputs": [],
   "source": [
    "df = pd.DataFrame(Counter(phrases).most_common())\n",
    "df.columns = [\"phrase\", \"frequency\"]"
   ]
  },
  {
   "cell_type": "code",
   "execution_count": 6,
   "metadata": {},
   "outputs": [
    {
     "name": "stdout",
     "output_type": "stream",
     "text": [
      "Total documents:                          313\n",
      "Total phrases:                            634\n",
      "Unique phrases:                           195\n",
      "Unique phrases that occur more than once: 62\n"
     ]
    }
   ],
   "source": [
    "print(\"Total documents: {:>28}\".format(total_documents))\n",
    "print(\"Total phrases: {:>30}\".format(df[\"frequency\"].sum()))\n",
    "print(\"Unique phrases: {:>29}\".format(df.shape[0]))\n",
    "print(\n",
    "    \"Unique phrases that occur more than once: {}\".format(\n",
    "        df.loc[df[\"frequency\"].gt(1), \"phrase\"].shape[0]\n",
    "    )\n",
    ")"
   ]
  },
  {
   "cell_type": "code",
   "execution_count": 7,
   "metadata": {},
   "outputs": [],
   "source": [
    "df.to_csv(ASSETS / \"frequencies.csv\", index=False)"
   ]
  },
  {
   "cell_type": "code",
   "execution_count": null,
   "metadata": {},
   "outputs": [],
   "source": []
  }
 ],
 "metadata": {
  "kernelspec": {
   "display_name": "Python 3",
   "language": "python",
   "name": "python3"
  },
  "language_info": {
   "codemirror_mode": {
    "name": "ipython",
    "version": 3
   },
   "file_extension": ".py",
   "mimetype": "text/x-python",
   "name": "python",
   "nbconvert_exporter": "python",
   "pygments_lexer": "ipython3",
   "version": "3.8.5"
  }
 },
 "nbformat": 4,
 "nbformat_minor": 4
}
