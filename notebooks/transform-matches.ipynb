{
 "cells": [
  {
   "cell_type": "code",
   "execution_count": 1,
   "id": "9617ff4f-393e-4001-b60c-15b718a334a4",
   "metadata": {},
   "outputs": [],
   "source": [
    "import json\n",
    "from typing import Dict, Iterator, List\n",
    "from pathlib import Path\n",
    "\n",
    "import pandas as pd # type: ignore"
   ]
  },
  {
   "cell_type": "code",
   "execution_count": 2,
   "id": "f476e84a-caa8-40e5-8bff-f4eadde7860a",
   "metadata": {},
   "outputs": [],
   "source": [
    "ASSETS = Path(\"../assets/\").resolve()\n",
    "\n",
    "Tabular = Dict[str, str]\n",
    "Matches = Dict[str, Dict[str, List[Dict[str, str]]]]"
   ]
  },
  {
   "cell_type": "code",
   "execution_count": 3,
   "id": "5acba8ea-0c7e-46b9-b0e6-c8dbde0ad629",
   "metadata": {},
   "outputs": [],
   "source": [
    "def read_jsonl(p: Path) -> Iterator[Matches]:\n",
    "    with p.open(\"r\", encoding=\"utf-8\") as lines:\n",
    "        for line in lines:\n",
    "            yield json.loads(line)"
   ]
  },
  {
   "cell_type": "code",
   "execution_count": 33,
   "id": "befc9538-8f30-44a0-8bde-805f36cd9326",
   "metadata": {},
   "outputs": [],
   "source": [
    "def transform(line: Matches) -> Tabular:\n",
    "    for document_id, data in line.items():\n",
    "        for match in data[\"patterns-SOV-ruinf\"]:\n",
    "            yield {\n",
    "                \"document_id\": document_id, \n",
    "                \"match\": f'{match[\"subject\"]} {match[\"anchor_influence\"]} {match[\"influence_object\"]}',\n",
    "                \"sentence\": match[\"sentence\"],\n",
    "                \"paragraph\": match[\"fulltext\"]\n",
    "            }"
   ]
  },
  {
   "cell_type": "code",
   "execution_count": 30,
   "id": "cb67c7a3-378f-42f6-b764-1dac3f916539",
   "metadata": {},
   "outputs": [],
   "source": [
    "data = []\n",
    "for line in read_jsonl(ASSETS / \"matches.jsonl\"):\n",
    "    for result in transform(line):\n",
    "        data.append(result)"
   ]
  },
  {
   "cell_type": "code",
   "execution_count": 36,
   "id": "f4b9be24-2992-4875-b838-35bccb5d53ee",
   "metadata": {},
   "outputs": [
    {
     "data": {
      "text/plain": [
       "{'document_id': '03d3ca77557b42e19bb49ccb26c43ddb',\n",
       " 'match': 'canada urge russia',\n",
       " 'sentence': '2 Canada should urge Russia to make a case for membership in NATO, through a series of slow and discreet steps.',\n",
       " 'paragraph': \"2 Canada should urge Russia to make a case for membership in NATO, through a series of slow and discreet steps. It should work out a strategy for convincing its 'old NATO' partners that Russian membership is the logical culmination of the course on which Canada is now embarked and point out that an all-inclusive NATO is a better guarantee of security than one that perpetuates new divisions in Europe. Russia's inclusion would be the final and conclusive step in NATO reform, in changing it from a collective security to a co-operative security organization .\"}"
      ]
     },
     "execution_count": 36,
     "metadata": {},
     "output_type": "execute_result"
    }
   ],
   "source": [
    "data[4]"
   ]
  },
  {
   "cell_type": "code",
   "execution_count": 38,
   "id": "eeaa07b8-4f4a-4f53-986a-8e089dd6c261",
   "metadata": {},
   "outputs": [],
   "source": [
    "pd.DataFrame(data)"
   ]
  }
 ],
 "metadata": {
  "kernelspec": {
   "display_name": "Python 3 (ipykernel)",
   "language": "python",
   "name": "python3"
  },
  "language_info": {
   "codemirror_mode": {
    "name": "ipython",
    "version": 3
   },
   "file_extension": ".py",
   "mimetype": "text/x-python",
   "name": "python",
   "nbconvert_exporter": "python",
   "pygments_lexer": "ipython3",
   "version": "3.8.5"
  }
 },
 "nbformat": 4,
 "nbformat_minor": 5
}
